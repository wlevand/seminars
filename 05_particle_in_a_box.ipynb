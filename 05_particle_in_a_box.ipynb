{
 "cells": [
  {
   "cell_type": "markdown",
   "metadata": {
    "deletable": true,
    "editable": true
   },
   "source": [
    "<figure>\n",
    "  <IMG SRC=\"gfx/Logo_norsk_pos.png\" WIDTH=100 ALIGN=\"right\">\n",
    "</figure>\n",
    "\n",
    "# Particle in a box\n",
    "*Roberto Di Remigio*, *Luca Frediani*\n",
    "\n",
    "The [particle in a box] model is among the simplest, exactly solvable models in quantum mechanics.\n",
    "In the one-dimensional case, we assume a particle of mass $m$ to be confined into a box of length $L$.\n",
    "The confinement is achieved by means of a potential energy operator that is zero inside the box and infinite outside, as in the Figure below.\n",
    "\n",
    "<figure>\n",
    "  <IMG SRC=\"gfx/Infinite_potential_well-en.svg\">\n",
    "</figure>\n",
    "\n",
    "In practice, this means that the particle **cannot** escape the box: a result that we would have obtained also\n",
    "from classical mechanics.\n",
    "How does the quantum particle behave? We need to find the **eigenfunctions** and **eigenvalues** of the **Hamiltonian operator**, that is we have to solve the following ordinary differential equation:\n",
    "\\begin{equation}\n",
    "-\\frac{\\hbar^2}{2m}\\frac{\\mathrm{d}^2}{\\mathrm{d}x^2} \\psi_n(x) = E_n\\psi_n(x)\n",
    "\\end{equation}\n",
    "with **boundary conditions**:\n",
    "\\begin{equation}\n",
    "\\begin{aligned}\n",
    "  \\psi_n(0) &= 0 \\\\\n",
    "  \\psi_n(L) &= 0\n",
    "\\end{aligned}\n",
    "\\end{equation}\n",
    "Thus acceptable solutions are of the form:\n",
    "\\begin{equation}\n",
    "\\psi_n(x) = \\sin(\\frac{n\\pi x}{L}) \\quad\\quad \\forall n \\neq 0\n",
    "\\end{equation}\n",
    "with energies:\n",
    "\\begin{equation}\n",
    "E_n = \\frac{h^2n^2}{8mL^2}  \\quad\\quad \\forall n \\neq 0\n",
    "\\end{equation}\n",
    "\n",
    "[particle in a box]: https://en.wikipedia.org/wiki/Particle_in_a_box"
   ]
  },
  {
   "cell_type": "markdown",
   "metadata": {
    "deletable": true,
    "editable": true
   },
   "source": [
    "## Exercise 1: Normalization\n",
    "\n",
    "The wavefunction(s) given above as solution to the particle in a box problem are not normalized:\n",
    "\\begin{equation}\n",
    "\\left\\langle \\psi_n | \\psi_n \\right\\rangle = \\int \\mathrm{d}x \\psi_n^*(x)\\psi_n(x) = |A|^2 \\neq 1\n",
    "\\end{equation}\n",
    "Find the normalization constant."
   ]
  },
  {
   "cell_type": "code",
   "execution_count": null,
   "metadata": {},
   "outputs": [],
   "source": [
    "from sympy import *\n",
    "# Define symbols\n",
    "x, y, z = symbols('x y z')\n",
    "# We want results to be printed to screen\n",
    "init_printing(use_unicode=True)\n",
    "# Calculate the derivative with respect to x\n",
    "diff(exp(x**2), x)"
   ]
  },
  {
   "cell_type": "code",
   "execution_count": null,
   "metadata": {},
   "outputs": [],
   "source": [
    "x, y, z = symbols('x y z')\n",
    "solve(2*x-8, 1)"
   ]
  },
  {
   "cell_type": "code",
   "execution_count": null,
   "metadata": {},
   "outputs": [],
   "source": [
    "from sympy.solvers import solve\n",
    "from sympy import Symbol\n",
    "x = Symbol('x')\n",
    "solve(x + 3 - 5, x)"
   ]
  },
  {
   "cell_type": "markdown",
   "metadata": {},
   "source": [
    "## Exercise 1.a: Uncertainty principle\n",
    "\n",
    "Calculate the value of $\\Delta x \\Delta p_x$ for the ground state of the particle of mass $m$ in the box of length $L$."
   ]
  },
  {
   "cell_type": "code",
   "execution_count": 17,
   "metadata": {},
   "outputs": [
    {
     "data": {
      "image/png": "[encoded data removed]",
      "text/latex": [
       "$\\displaystyle \\begin{cases} \\frac{1.0 \\pi^{2} \\hbar^{2} \\left(\\frac{1}{L}\\right)^{1.0}}{L} & \\text{for}\\: L > -\\infty \\wedge L < \\infty \\wedge L \\neq 0 \\\\0 & \\text{otherwise} \\end{cases}$"
      ],
      "text/plain": [
       "⎧             1.0                            \n",
       "⎪     2  2 ⎛1⎞                               \n",
       "⎪1.0⋅π ⋅h̅ ⋅⎜─⎟                               \n",
       "⎪          ⎝L⎠                               \n",
       "⎨────────────────  for L > -∞ ∧ L < ∞ ∧ L ≠ 0\n",
       "⎪       L                                    \n",
       "⎪                                            \n",
       "⎪       0                  otherwise         \n",
       "⎩                                            "
      ]
     },
     "execution_count": 17,
     "metadata": {},
     "output_type": "execute_result"
    }
   ],
   "source": [
    "from sympy import *\n",
    "# Define symbols\n",
    "x, L, n, N, hbar = symbols('x L n N hbar')\n",
    "# We want results to be printed to screen\n",
    "init_printing(use_unicode=True)\n",
    "\n",
    "N = (2/L)**0.5\n",
    "n = 1\n",
    "expr=N*sin(n*pi*x/L)\n",
    "\n",
    "a = integrate(x**2*expr**2, (x, 0, L))\n",
    "# print(a)\n",
    "# simplify(a)\n",
    "# a\n",
    "\n",
    "expr2=diff(N*sin(n*pi*x/L), x, 2)\n",
    "# L = 10.\n",
    "# hbar = \n",
    "b = integrate(expr*-hbar**2*expr2, (x, 0, L))\n",
    "b"
   ]
  },
  {
   "cell_type": "markdown",
   "metadata": {
    "deletable": true,
    "editable": true
   },
   "source": [
    "## Exercise 2: Ground-state and probabilities\n",
    "\n",
    "Given the **normalized** ground-state wavefunction for a particle confined to a one-dimensional box of length $L$, suppose the box is $10.0\\,\\,\\mathrm{nm}$ long. What is the probability that the particle is:\n",
    "1. Between $a = 4.95\\,\\,\\mathrm{nm}$ and $b=5.05\\,\\,\\mathrm{nm}$\n",
    "2. Between $a = 1.95\\,\\,\\mathrm{nm}$ and $b=2.05\\,\\,\\mathrm{nm}$\n",
    "3. Between $a = 9.90\\,\\,\\mathrm{nm}$ and $b=10.0\\,\\,\\mathrm{nm}$\n",
    "4. In the right half of the box\n",
    "5. In the central third of the box\n",
    "\n",
    "How can we generalize to the excited states?"
   ]
  },
  {
   "cell_type": "markdown",
   "metadata": {
    "deletable": true,
    "editable": true
   },
   "source": [
    "## Exercise 3: Eigenfunctions and probability distributions\n",
    "\n",
    "Write a Python function to plot the eigenfunctions of the particle in a box model. The function should accept the quantum number $n$, the length of the box $L$ and a NumPy array of $x$ values as arguments:\n",
    "\n",
    "```Python\n",
    "def eigenfunction1D(n, L, x):\n",
    "    \"\"\" Normalized eigenfunction for the 1D particle in a box.\n",
    "    \n",
    "    n -- the quantum number\n",
    "    L -- the size of the box\n",
    "    x -- the NumPy array with the x values\n",
    "    \"\"\"\n",
    "```\n",
    "Once this function is defined, we can obtain the respective probability distribution by taking its square:\n",
    "```Python\n",
    "x = np.linspace(0, 10.0, 1000)\n",
    "eig = eigenfunction1D(1, 10.0, x)\n",
    "prob = eigenfunction1D(1, 10.0, x)**2\n",
    "```\n",
    "and plot both of them with:\n",
    "```Python\n",
    "plt.plot(x, eig)\n",
    "plt.plot(x, prob)\n",
    "```"
   ]
  },
  {
   "cell_type": "markdown",
   "metadata": {},
   "source": []
  },
  {
   "cell_type": "code",
   "execution_count": null,
   "metadata": {
    "collapsed": false,
    "deletable": true,
    "editable": true,
    "jupyter": {
     "outputs_hidden": false
    }
   },
   "outputs": [],
   "source": [
    "import numpy as np\n",
    "import matplotlib.pyplot as plt\n",
    "# make sure we see it on this notebook\n",
    "%matplotlib inline\n",
    "\n",
    "def eigenfunction1D(n, L, x):\n",
    "    \"\"\" Normalized eigenfunction for the 1D particle in a box.\n",
    "    \n",
    "    n -- the quantum number\n",
    "    L -- the size of the box\n",
    "    x -- the NumPy array with the x values\n",
    "    \"\"\"\n",
    "    raise NotImplementedError('You need to write this function!')\n",
    "\n",
    "\n",
    "x = np.linspace(0, 10.0, 1000)\n",
    "eig = eigenfunction1D(1, 10.0, x)\n",
    "prob = eigenfunction1D(1, 10.0, x)**2\n",
    "\n",
    "plt.plot(x, eig)\n",
    "plt.plot(x, prob)"
   ]
  },
  {
   "cell_type": "markdown",
   "metadata": {
    "deletable": true,
    "editable": true
   },
   "source": [
    "## Exercise 4: Normalization of linear combinations of eigenfunctions\n",
    "\n",
    "A linear combination is defined as:\n",
    "\\begin{equation}\n",
    "\\Psi(x) = \\sum_{i=0}^{N} c_i \\psi_i(x)\n",
    "\\end{equation}\n",
    "where $c_i$ are the coefficients and $\\psi_i(x)$ are the eigenfunctions of the particle in a box.\n",
    "Is $\\Psi(x)$ normalized? If not, how can we normalize it? Write a Python function that returns the normalization constant given a vector of coefficients $c_i$ in the linear combination.\n",
    "\n",
    "```Python\n",
    "def normalize(coeffs):\n",
    "    \"\"\" Normalization constant for a linear combination of 1D particle in a box eigenfunctions\n",
    "    \n",
    "    coeffs -- a NumPy array with the coefficients\n",
    "    \"\"\"\n",
    "```"
   ]
  },
  {
   "cell_type": "code",
   "execution_count": null,
   "metadata": {
    "collapsed": false,
    "deletable": true,
    "editable": true,
    "jupyter": {
     "outputs_hidden": false
    }
   },
   "outputs": [],
   "source": [
    "import numpy as np\n",
    "import matplotlib.pyplot as plt\n",
    "# make sure we see it on this notebook\n",
    "%matplotlib inline\n",
    "\n",
    "def normalize(coeffs):\n",
    "    \"\"\" Normalization constant for a linear combination of 1D particle in a box eigenfunctions\n",
    "\n",
    "    coeffs -- a NumPy array with the coefficients\n",
    "    \"\"\"\n",
    "    raise NotImplementedError('You need to write this function!')\n",
    "    \n",
    "    \n",
    "coeffs = np.array([0.5, 0.5])\n",
    "normalize(coeffs)"
   ]
  },
  {
   "cell_type": "markdown",
   "metadata": {
    "deletable": true,
    "editable": true
   },
   "source": [
    "## Exercise 5: Energy of linear combinations\n",
    "\n",
    "The **expectation value** of an operator $O$ on the wavefunction $\\Psi$ is defined as:\n",
    "\\begin{equation}\n",
    "\\bar{O} = \\frac{\\langle\\Psi|O|\\Psi\\rangle}{\\langle\\Psi|\\Psi\\rangle} = \\langle\\Psi|O|\\Psi\\rangle\n",
    "\\end{equation}\n",
    "where the last equality holds only if $\\Psi$ is normalized.\n",
    "The energy is the expectation value of the Hamiltonian operator:\n",
    "\\begin{equation}\n",
    "\\bar{H} = E = \\langle\\Psi|H|\\Psi\\rangle\n",
    "\\end{equation}\n",
    "\n",
    "Given $\\Psi$ a linear combination of particle in a box eigenfunctions, calculate its respective energy.\n",
    "**Hint**: remember that $H\\psi_i(x) = E_i\\psi_i(x)$ and that the $\\psi_i(x)$ are normalizd. You can also assume $\\Psi$ to be already normalized.\n",
    "\n",
    "Write a Python function to calculate the energy of such linear combinations. The function should accept the coefficients $c_i$ of the linear combination, the mass $M$ of the particle and the length $L$ of the box as arguments.\n",
    "\n",
    "```Python\n",
    "def energy(coeffs, M, L):\n",
    "    \"\"\" Return energy of a linear combination of 1D particle in a box eigenfunctions.\n",
    "\n",
    "    coeffs -- the coefficients of the linear combination\n",
    "    M -- the mass of the particle\n",
    "    L -- the size of the box\n",
    "    \"\"\"\n",
    "```"
   ]
  },
  {
   "cell_type": "code",
   "execution_count": null,
   "metadata": {
    "collapsed": false,
    "deletable": true,
    "editable": true,
    "jupyter": {
     "outputs_hidden": false
    }
   },
   "outputs": [],
   "source": [
    "def energy(coeffs, M, L):\n",
    "    \"\"\" Return energy of a linear combination of 1D particle in a box eigenfunctions.\n",
    "\n",
    "    coeffs -- the coefficients of the linear combination\n",
    "    M -- the mass of the particle\n",
    "    L -- the size of the box\n",
    "    \"\"\"\n",
    "    raise NotImplementedError('You have to write this function')\n",
    "\n",
    "coeffs = np.array([0.5, 0.5])\n",
    "energy(coeffs, 1.0, 10.0)"
   ]
  },
  {
   "cell_type": "markdown",
   "metadata": {
    "deletable": true,
    "editable": true,
    "jp-MarkdownHeadingCollapsed": true
   },
   "source": [
    "## Exercise 6: Linear combinations of eigenfunctions\n",
    "\n",
    "We can now try to plot linear combinations of eigenfuntions and their corresponding probability densities.\n",
    "Define the appropriate function to do so. Your function should use your previous implementation of `eigenfunction1D` to achieve its purpose."
   ]
  },
  {
   "cell_type": "markdown",
   "metadata": {},
   "source": [
    "## Exercise 6.a: Numerical integration with `scipy`\n",
    "\n",
    "Below you have an example of numerical integration of a function. Try it out on the probability densities of the wavefunctions of the particle in the box."
   ]
  },
  {
   "cell_type": "code",
   "execution_count": 1,
   "metadata": {},
   "outputs": [
    {
     "name": "stdout",
     "output_type": "stream",
     "text": [
      "Numerical integral result: 766.6666666666667\n"
     ]
    },
    {
     "data": {
      "image/png": "[encoded data removed]",
      "text/plain": [
       "<Figure size 640x480 with 1 Axes>"
      ]
     },
     "metadata": {},
     "output_type": "display_data"
    }
   ],
   "source": [
    "import numpy as np\n",
    "import matplotlib.pyplot as plt\n",
    "from scipy import integrate\n",
    "\n",
    "# Define the function to be integrated\n",
    "def func(x, c, d):\n",
    "    return c * x**2 + d\n",
    "\n",
    "c, d = 1., 5.\n",
    "\n",
    "# Define the integration limits\n",
    "a, b = -10., 10.\n",
    "\n",
    "# Generate x values\n",
    "x = np.linspace(a, b, 100)\n",
    "\n",
    "# Plot the function\n",
    "plt.plot(x, func(x, c, d), label='Function to integrate')\n",
    "\n",
    "# Fill the area under the curve\n",
    "plt.fill_between(x, func(x, c, d), alpha=0.2, label='Area under the curve')\n",
    "\n",
    "# Compute the numerical integral using scipy's quad function\n",
    "result, error = integrate.quad(func, a, b, args=(c, d))\n",
    "print(f\"Numerical integral result: {result}\")\n",
    "\n",
    "# Display the result on the plot\n",
    "plt.title(f'Numerical Integral: {result:.4f}')\n",
    "plt.legend()\n",
    "plt.show()"
   ]
  },
  {
   "cell_type": "markdown",
   "metadata": {},
   "source": [
    "## Exercise 7: Time evolution: time-dependent wavefunctions\n",
    "\n",
    "Plot time-dependent wavefunctions and their probability densities at several time steps. \n",
    "$$\\psi_n (x, t) = \\psi_n(x)e^{-\\frac{iE_nt}{\\hbar}}$$\r\n"
   ]
  },
  {
   "cell_type": "code",
   "execution_count": null,
   "metadata": {},
   "outputs": [],
   "source": []
  }
 ],
 "metadata": {
  "kernelspec": {
   "display_name": "Python 3 (ipykernel)",
   "language": "python",
   "name": "python3"
  },
  "language_info": {
   "codemirror_mode": {
    "name": "ipython",
    "version": 3
   },
   "file_extension": ".py",
   "mimetype": "text/x-python",
   "name": "python",
   "nbconvert_exporter": "python",
   "pygments_lexer": "ipython3",
   "version": "3.10.13"
  }
 },
 "nbformat": 4,
 "nbformat_minor": 4
}
